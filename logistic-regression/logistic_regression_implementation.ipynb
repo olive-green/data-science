{
  "nbformat": 4,
  "nbformat_minor": 0,
  "metadata": {
    "colab": {
      "name": "logistic-regression-implementation.ipynb",
      "provenance": [],
      "authorship_tag": "ABX9TyMsVO64LfswJsAXxZWEo6Bf",
      "include_colab_link": true
    },
    "kernelspec": {
      "name": "python3",
      "display_name": "Python 3"
    },
    "language_info": {
      "name": "python"
    }
  },
  "cells": [
    {
      "cell_type": "markdown",
      "metadata": {
        "id": "view-in-github",
        "colab_type": "text"
      },
      "source": [
        "<a href=\"https://colab.research.google.com/github/olive-green/data-science/blob/main/logistic-regression/logistic_regression_implementation.ipynb\" target=\"_parent\"><img src=\"https://colab.research.google.com/assets/colab-badge.svg\" alt=\"Open In Colab\"/></a>"
      ]
    },
    {
      "cell_type": "code",
      "execution_count": 2,
      "metadata": {
        "id": "aF_2A_5YbyO3"
      },
      "outputs": [],
      "source": [
        "import numpy as np\n"
      ]
    },
    {
      "cell_type": "code",
      "source": [
        "class LogisticRegression:\n",
        "  def __init__(self,learning_rate=0.001,n_iters=1000):\n",
        "    self.lr=learning_rate\n",
        "    self.n_iters=n_iters\n",
        "    self.weights=None\n",
        "    self.bias=None\n",
        "  \n",
        "  # fit or training function\n",
        "  def fit(self,x,y):\n",
        "    n_samples,n_features=x.shape\n",
        "\n",
        "    # init parameters\n",
        "    self.weights=np.zeros(n_features)\n",
        "    self.bias=0\n",
        "\n",
        "    # gradient descent\n",
        "    for _ in range(self.n_iters):\n",
        "      # approximate y with linear combination of weights and x, plus bias\n",
        "      linear_model=np.dot(x,self.weights)+self.bias\n",
        "      # apply sigmoid function\n",
        "      y_predicted=self.sigmoid(linear_model)\n",
        "\n",
        "      # compute gradients\n",
        "      dw=(1/n_samples)*np.dot(x.T,(y_predicted- y))\n",
        "      db=(1/n_samples)*np.sum(y_predicted-y)\n",
        "\n",
        "      # update parameters\n",
        "      self.weights=self.weights- self.lr*dw\n",
        "      self.bias=self.bias- self.lr*db\n",
        "\n",
        "  def predict(self,x):\n",
        "    linear_model=np.dot(x,self.weights)+self.bias\n",
        "    y_predicted=self.sigmoid(linear_model)\n",
        "    y_predicted_cls=[1 if i>0.5 else 0 for i in y_predicted]\n",
        "    return np.array(y_predicted_cls)\n",
        "  \n",
        "  def sigmoid(self,x):\n",
        "    return 1/(1+np.exp(-x))\n",
        "    \n",
        "\n"
      ],
      "metadata": {
        "id": "lU2w-cKgb6TZ"
      },
      "execution_count": 5,
      "outputs": []
    },
    {
      "cell_type": "code",
      "source": [
        "\n",
        "if __name__==\"__main__\":\n",
        "  from sklearn.model_selection import train_test_split\n",
        "  from sklearn import datasets\n",
        "\n",
        "  def accuracy(y_true,y_pred):\n",
        "    accuracy=np.sum(y_true==y_pred)/len(y_true)\n",
        "    return accuracy\n",
        "\n",
        "  bc=datasets.load_breast_cancer()\n",
        "  X,y=bc.data,bc.target\n",
        "\n",
        "  X_train,X_test,y_train,y_test=train_test_split(X,y,test_size=0.2,random_state=41)\n",
        "\n",
        "  regressor=LogisticRegression(learning_rate=0.0001,n_iters=1000)\n",
        "  regressor.fit(X_train,y_train)\n",
        "  predictions=regressor.predict(X_test)\n",
        "\n",
        "  print(\"LR classification accuracy:\",accuracy(y_test,predictions))"
      ],
      "metadata": {
        "id": "oaqV0wLifIMG",
        "outputId": "4138e5dd-59dd-4147-cbec-886adc922709",
        "colab": {
          "base_uri": "https://localhost:8080/"
        }
      },
      "execution_count": 8,
      "outputs": [
        {
          "output_type": "stream",
          "name": "stdout",
          "text": [
            "LR classification accuracy: 0.7280701754385965\n"
          ]
        }
      ]
    },
    {
      "cell_type": "code",
      "source": [
        "#here on changin random_state value accuracy also changes , ex. random_state=1234"
      ],
      "metadata": {
        "id": "8V79oUnzNb2d"
      },
      "execution_count": 9,
      "outputs": []
    },
    {
      "cell_type": "code",
      "source": [
        ""
      ],
      "metadata": {
        "id": "tQ97p7d8ONnA"
      },
      "execution_count": null,
      "outputs": []
    }
  ]
}