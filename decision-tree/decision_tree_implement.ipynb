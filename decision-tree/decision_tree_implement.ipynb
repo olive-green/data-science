{
  "nbformat": 4,
  "nbformat_minor": 0,
  "metadata": {
    "colab": {
      "name": "decision-tree-implement.ipynb",
      "provenance": [],
      "authorship_tag": "ABX9TyOCvgOE+nB8YfOzxSNeKEFV",
      "include_colab_link": true
    },
    "kernelspec": {
      "name": "python3",
      "display_name": "Python 3"
    },
    "language_info": {
      "name": "python"
    }
  },
  "cells": [
    {
      "cell_type": "markdown",
      "metadata": {
        "id": "view-in-github",
        "colab_type": "text"
      },
      "source": [
        "<a href=\"https://colab.research.google.com/github/olive-green/data-science/blob/main/decision-tree/decision_tree_implement.ipynb\" target=\"_parent\"><img src=\"https://colab.research.google.com/assets/colab-badge.svg\" alt=\"Open In Colab\"/></a>"
      ]
    },
    {
      "cell_type": "code",
      "execution_count": 1,
      "metadata": {
        "id": "eYlN8UosCelD"
      },
      "outputs": [],
      "source": [
        "import pandas as pd\n",
        "import numpy as np\n",
        "import matplotlib.pyplot as plt\n"
      ]
    },
    {
      "cell_type": "code",
      "source": [
        "# create a function to calculate entropy\n",
        "def entropy(P,N):\n",
        "  pprob=P/(P+N)\n",
        "  nprob=N/(P+N)\n",
        "  entro=-pprob * np.log2(pprob)-nprob * np.log2(nprob)\n",
        "  return entro"
      ],
      "metadata": {
        "id": "T_PgfSDDZSCW"
      },
      "execution_count": 3,
      "outputs": []
    },
    {
      "cell_type": "code",
      "source": [
        "entropy(2,3)\n"
      ],
      "metadata": {
        "id": "iFvO9DWTaJ73",
        "outputId": "e5344362-f677-43d0-acac-41bf7964f601",
        "colab": {
          "base_uri": "https://localhost:8080/"
        }
      },
      "execution_count": 8,
      "outputs": [
        {
          "output_type": "execute_result",
          "data": {
            "text/plain": [
              "0.9709505944546686"
            ]
          },
          "metadata": {},
          "execution_count": 8
        }
      ]
    },
    {
      "cell_type": "code",
      "source": [
        ""
      ],
      "metadata": {
        "id": "j51X1fbVaN09"
      },
      "execution_count": null,
      "outputs": []
    }
  ]
}