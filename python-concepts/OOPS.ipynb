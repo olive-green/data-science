{
  "nbformat": 4,
  "nbformat_minor": 0,
  "metadata": {
    "colab": {
      "name": "OOPS.ipynb",
      "provenance": [],
      "authorship_tag": "ABX9TyP6ykET2xvMulfWlW0gkRPJ",
      "include_colab_link": true
    },
    "kernelspec": {
      "name": "python3",
      "display_name": "Python 3"
    },
    "language_info": {
      "name": "python"
    }
  },
  "cells": [
    {
      "cell_type": "markdown",
      "metadata": {
        "id": "view-in-github",
        "colab_type": "text"
      },
      "source": [
        "<a href=\"https://colab.research.google.com/github/olive-green/data-science/blob/main/python-concepts/OOPS.ipynb\" target=\"_parent\"><img src=\"https://colab.research.google.com/assets/colab-badge.svg\" alt=\"Open In Colab\"/></a>"
      ]
    },
    {
      "cell_type": "markdown",
      "source": [
        "####Class is design of object\n"
      ],
      "metadata": {
        "id": "ephazNb2jfPu"
      }
    },
    {
      "cell_type": "code",
      "execution_count": 1,
      "metadata": {
        "colab": {
          "base_uri": "https://localhost:8080/"
        },
        "id": "E6-1xHGHiZdb",
        "outputId": "100da118-6bfa-4bbb-fe87-79dad2257722"
      },
      "outputs": [
        {
          "output_type": "stream",
          "name": "stdout",
          "text": [
            "<class '__main__.Computer'>\n"
          ]
        }
      ],
      "source": [
        "class Computer:\n",
        "  # methods\n",
        "  def config(self):\n",
        "    print(\"i5,16gb,256gb\")\n",
        "\n",
        "comp1=Computer()\n",
        "print(type(comp1))"
      ]
    },
    {
      "cell_type": "code",
      "source": [
        "Computer.config(comp1)"
      ],
      "metadata": {
        "colab": {
          "base_uri": "https://localhost:8080/"
        },
        "id": "pZyjTfTBkuKR",
        "outputId": "ad0cf042-bc50-4278-a5c7-fe2c51221ed6"
      },
      "execution_count": 4,
      "outputs": [
        {
          "output_type": "stream",
          "name": "stdout",
          "text": [
            "i5,16gb,256gb\n"
          ]
        }
      ]
    },
    {
      "cell_type": "code",
      "source": [
        "comp1.config()"
      ],
      "metadata": {
        "colab": {
          "base_uri": "https://localhost:8080/"
        },
        "id": "-C1RZLo0kJ9W",
        "outputId": "2d4ba5ce-45fa-4dcb-a93b-611cd1ac734f"
      },
      "execution_count": 3,
      "outputs": [
        {
          "output_type": "stream",
          "name": "stdout",
          "text": [
            "i5,16gb,256gb\n",
            "None\n"
          ]
        }
      ]
    },
    {
      "cell_type": "markdown",
      "source": [
        "#__init__ method\n",
        "## init method is also called constructor\n",
        "### constructor functions is to allocate memory for the class depending upon the no of variables in  class"
      ],
      "metadata": {
        "id": "42ljr-2uk-0Z"
      }
    },
    {
      "cell_type": "code",
      "source": [
        "class Computer:\n",
        "  def __init__(self,ram,processor):\n",
        "    self.ram=ram\n",
        "    self.processor=processor\n",
        "  def config(self):\n",
        "    print(\"This is \",self.ram,self.processor)\n",
        "\n",
        "com1=Computer(\"8gb\",\"i5\")\n",
        "com2=Computer(\"16gb\",\"ryzen 7\")\n",
        "\n",
        "\n"
      ],
      "metadata": {
        "id": "oGe84tHYkbIY"
      },
      "execution_count": 7,
      "outputs": []
    },
    {
      "cell_type": "code",
      "source": [
        "com1.config()\n",
        "com2.config()"
      ],
      "metadata": {
        "colab": {
          "base_uri": "https://localhost:8080/"
        },
        "id": "wCAhEYTQng6e",
        "outputId": "c8751ff9-a834-40c0-906c-5e9f6f21dd3e"
      },
      "execution_count": 8,
      "outputs": [
        {
          "output_type": "stream",
          "name": "stdout",
          "text": [
            "This is  8gb i5\n",
            "This is  16gb ryzen 7\n"
          ]
        }
      ]
    },
    {
      "cell_type": "markdown",
      "source": [
        "#Self ?\n",
        "##In python self is behave as similar to this pointer in cpp\n",
        "###self is referencing to that object\n",
        "##We have to use self everytime we uses variables because it tells which objects this variable it is.\n",
        "\n",
        "\n",
        "#Imp- self is automatically passes to every method when we call a method.\n",
        "like when we create a object then self is passes from Computer(self) for __init__ method similary for other methods"
      ],
      "metadata": {
        "id": "tJ7I3ObnoVJi"
      }
    },
    {
      "cell_type": "code",
      "source": [
        ""
      ],
      "metadata": {
        "id": "rVVZP3bwqbKJ"
      },
      "execution_count": null,
      "outputs": []
    },
    {
      "cell_type": "code",
      "source": [
        ""
      ],
      "metadata": {
        "id": "wFSAx7owqbBv"
      },
      "execution_count": null,
      "outputs": []
    },
    {
      "cell_type": "code",
      "source": [
        ""
      ],
      "metadata": {
        "id": "8YQRAnBpqa2V"
      },
      "execution_count": null,
      "outputs": []
    },
    {
      "cell_type": "code",
      "source": [
        ""
      ],
      "metadata": {
        "id": "h2A199bpqcap"
      },
      "execution_count": null,
      "outputs": []
    },
    {
      "cell_type": "markdown",
      "source": [
        "#Types of Variables"
      ],
      "metadata": {
        "id": "hQlGAo62qdL-"
      }
    },
    {
      "cell_type": "markdown",
      "source": [
        "##Class Variables(Static) and Instance Variables"
      ],
      "metadata": {
        "id": "QSzOPbNbqgQB"
      }
    },
    {
      "cell_type": "markdown",
      "source": [
        "##Class Variables\n",
        "###Class variable belongs to whole class they are same for all objects or class instances"
      ],
      "metadata": {
        "id": "Z5gkTn-wqn2R"
      }
    },
    {
      "cell_type": "code",
      "source": [
        "class Car:\n",
        "  wheels=4\n",
        "\n",
        "car1=Car()\n",
        "car2=Car()\n",
        "print(car1.wheels,car2.wheels)"
      ],
      "metadata": {
        "colab": {
          "base_uri": "https://localhost:8080/"
        },
        "id": "v-bCcTVToS4d",
        "outputId": "1e756d66-ab64-4c7b-e22c-2b725047b926"
      },
      "execution_count": 9,
      "outputs": [
        {
          "output_type": "stream",
          "name": "stdout",
          "text": [
            "4 4\n"
          ]
        }
      ]
    },
    {
      "cell_type": "code",
      "source": [
        "# now if we change the variable then it get changes for both objects\n",
        "# second point we need to use class name for changing class variables\n",
        "Car.wheels=8"
      ],
      "metadata": {
        "id": "nhhvGdHrrCDZ"
      },
      "execution_count": 10,
      "outputs": []
    },
    {
      "cell_type": "code",
      "source": [
        "print(car1.wheels,car2.wheels)"
      ],
      "metadata": {
        "colab": {
          "base_uri": "https://localhost:8080/"
        },
        "id": "xT6ZRY4prO_u",
        "outputId": "d6a4cfc8-7b33-43b1-d235-67ef23f7df7d"
      },
      "execution_count": 11,
      "outputs": [
        {
          "output_type": "stream",
          "name": "stdout",
          "text": [
            "8 8\n"
          ]
        }
      ]
    },
    {
      "cell_type": "code",
      "source": [
        ""
      ],
      "metadata": {
        "id": "SJ_6fGQlrREZ"
      },
      "execution_count": null,
      "outputs": []
    },
    {
      "cell_type": "markdown",
      "source": [
        "#Instance Variables\n",
        "###they are created for objects"
      ],
      "metadata": {
        "id": "iM9RSokMrSjD"
      }
    },
    {
      "cell_type": "code",
      "source": [
        "class Car:\n",
        "  def __init__(self,name,wheels):\n",
        "    self.name=name  # these are called instance variables\n",
        "    self.wheels=wheels\n",
        "  def display(self):\n",
        "    print(self.name,self.wheels)"
      ],
      "metadata": {
        "id": "tbyQs-_ira36"
      },
      "execution_count": 17,
      "outputs": []
    },
    {
      "cell_type": "code",
      "source": [
        "car1=Car(\"bmw\",4)\n",
        "car2=Car(\"audi\",5)\n",
        "car1.display()\n",
        "car2.display()"
      ],
      "metadata": {
        "colab": {
          "base_uri": "https://localhost:8080/"
        },
        "id": "s6ajU8Svrq5T",
        "outputId": "773457ce-b0b5-45dc-9cd4-f809bd5ac364"
      },
      "execution_count": 18,
      "outputs": [
        {
          "output_type": "stream",
          "name": "stdout",
          "text": [
            "bmw 4\n",
            "audi 5\n"
          ]
        }
      ]
    },
    {
      "cell_type": "code",
      "source": [
        "car1.wheels=6\n",
        "car2.wheels=11\n",
        "car1.display()\n",
        "car2.display()"
      ],
      "metadata": {
        "colab": {
          "base_uri": "https://localhost:8080/"
        },
        "id": "vSSGFJuHrxNH",
        "outputId": "6a2b7271-be45-4dc8-9a56-4a811c009e3b"
      },
      "execution_count": 19,
      "outputs": [
        {
          "output_type": "stream",
          "name": "stdout",
          "text": [
            "bmw 6\n",
            "audi 11\n"
          ]
        }
      ]
    },
    {
      "cell_type": "code",
      "source": [
        ""
      ],
      "metadata": {
        "id": "LzMw0MVjr5bJ"
      },
      "execution_count": null,
      "outputs": []
    }
  ]
}