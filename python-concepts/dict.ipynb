{
  "nbformat": 4,
  "nbformat_minor": 0,
  "metadata": {
    "colab": {
      "name": "dict.ipynb",
      "provenance": [],
      "authorship_tag": "ABX9TyOPCkz/Jo/jjIVSMc64Vt9J",
      "include_colab_link": true
    },
    "kernelspec": {
      "name": "python3",
      "display_name": "Python 3"
    },
    "language_info": {
      "name": "python"
    }
  },
  "cells": [
    {
      "cell_type": "markdown",
      "metadata": {
        "id": "view-in-github",
        "colab_type": "text"
      },
      "source": [
        "<a href=\"https://colab.research.google.com/github/olive-green/data-science/blob/main/python-concepts/dict.ipynb\" target=\"_parent\"><img src=\"https://colab.research.google.com/assets/colab-badge.svg\" alt=\"Open In Colab\"/></a>"
      ]
    },
    {
      "cell_type": "code",
      "execution_count": null,
      "metadata": {
        "id": "JjPPsQ4HffRP"
      },
      "outputs": [],
      "source": [
        ""
      ]
    },
    {
      "cell_type": "markdown",
      "source": [
        "Dictionaries are:\n",
        "1. Ordered(After python 3.7)\n",
        "2. Not indexed\n",
        "3. Mutable\n",
        "4. No Duplicates"
      ],
      "metadata": {
        "id": "JuShXO2EfreF"
      }
    },
    {
      "cell_type": "code",
      "source": [
        "dict1={\n",
        "    \"A\":1,\n",
        "    \"C\":\"pankaj\",\n",
        "    \"B\":[1,2,3]\n",
        "}"
      ],
      "metadata": {
        "id": "ftKX93Ubf3Qg"
      },
      "execution_count": 1,
      "outputs": []
    },
    {
      "cell_type": "code",
      "source": [
        "dict1"
      ],
      "metadata": {
        "colab": {
          "base_uri": "https://localhost:8080/"
        },
        "id": "tTSlb2gfgBJr",
        "outputId": "90e26c58-8e3c-43ba-e8e6-bd1fc84c7896"
      },
      "execution_count": 2,
      "outputs": [
        {
          "output_type": "execute_result",
          "data": {
            "text/plain": [
              "{'A': 1, 'B': [1, 2, 3], 'C': 'pankaj'}"
            ]
          },
          "metadata": {},
          "execution_count": 2
        }
      ]
    },
    {
      "cell_type": "markdown",
      "source": [
        "Since they are ordered it is a,b,c"
      ],
      "metadata": {
        "id": "eFluDfjHgDS-"
      }
    },
    {
      "cell_type": "code",
      "source": [
        "dict1[\"A\"]=2"
      ],
      "metadata": {
        "id": "CWdFGAMdgCMy"
      },
      "execution_count": 3,
      "outputs": []
    },
    {
      "cell_type": "code",
      "source": [
        "dict1"
      ],
      "metadata": {
        "colab": {
          "base_uri": "https://localhost:8080/"
        },
        "id": "d3hPWMulgNkV",
        "outputId": "bd02845f-cdb4-408e-92d5-211b9aa9f8e4"
      },
      "execution_count": 4,
      "outputs": [
        {
          "output_type": "execute_result",
          "data": {
            "text/plain": [
              "{'A': 2, 'B': [1, 2, 3], 'C': 'pankaj'}"
            ]
          },
          "metadata": {},
          "execution_count": 4
        }
      ]
    },
    {
      "cell_type": "markdown",
      "source": [
        "They are mutable"
      ],
      "metadata": {
        "id": "V0_X67Z7gPio"
      }
    },
    {
      "cell_type": "code",
      "source": [
        "dict1={\n",
        "    \"A\":1,\n",
        "    \"C\":\"pankaj\",\n",
        "    \"B\":[1,2,3],\n",
        "    \"A\":3\n",
        "}"
      ],
      "metadata": {
        "id": "_BbGUceKgOkS"
      },
      "execution_count": 5,
      "outputs": []
    },
    {
      "cell_type": "code",
      "source": [
        "dict1"
      ],
      "metadata": {
        "colab": {
          "base_uri": "https://localhost:8080/"
        },
        "id": "jBhYo4wEgZde",
        "outputId": "4efaa255-befa-430a-dcdf-14c83a56c497"
      },
      "execution_count": 6,
      "outputs": [
        {
          "output_type": "execute_result",
          "data": {
            "text/plain": [
              "{'A': 3, 'B': [1, 2, 3], 'C': 'pankaj'}"
            ]
          },
          "metadata": {},
          "execution_count": 6
        }
      ]
    },
    {
      "cell_type": "markdown",
      "source": [
        "since no duplicates keys are allowed hence A : 3 replace 1"
      ],
      "metadata": {
        "id": "ZcVZ9mc7gc30"
      }
    },
    {
      "cell_type": "markdown",
      "source": [
        "#Print keys and values"
      ],
      "metadata": {
        "id": "tGDj-K5lg9o8"
      }
    },
    {
      "cell_type": "code",
      "source": [
        "dict1.keys()"
      ],
      "metadata": {
        "colab": {
          "base_uri": "https://localhost:8080/"
        },
        "id": "zNtC10Megs1R",
        "outputId": "f2380a94-f9f5-4e9e-fa6e-dbb3dfed8e7f"
      },
      "execution_count": 9,
      "outputs": [
        {
          "output_type": "execute_result",
          "data": {
            "text/plain": [
              "dict_keys(['A', 'C', 'B'])"
            ]
          },
          "metadata": {},
          "execution_count": 9
        }
      ]
    },
    {
      "cell_type": "code",
      "source": [
        "dict1.values()"
      ],
      "metadata": {
        "colab": {
          "base_uri": "https://localhost:8080/"
        },
        "id": "DEqaYyFNhA9j",
        "outputId": "dc1ea250-96ff-4732-f16d-18d07f1f3dab"
      },
      "execution_count": 15,
      "outputs": [
        {
          "output_type": "execute_result",
          "data": {
            "text/plain": [
              "dict_values([3, 'pankaj', [1, 2, 3]])"
            ]
          },
          "metadata": {},
          "execution_count": 15
        }
      ]
    },
    {
      "cell_type": "markdown",
      "source": [
        "Iterating over element"
      ],
      "metadata": {
        "id": "PRdubU7IhPOV"
      }
    },
    {
      "cell_type": "code",
      "source": [
        "for key,value in dict1.items():\n",
        "  print(key, value)"
      ],
      "metadata": {
        "colab": {
          "base_uri": "https://localhost:8080/"
        },
        "id": "Pf4jdMHVhHmO",
        "outputId": "66e75bf3-c03a-4482-f636-e5ced271cd88"
      },
      "execution_count": 18,
      "outputs": [
        {
          "output_type": "stream",
          "name": "stdout",
          "text": [
            "A 3\n",
            "C pankaj\n",
            "B [1, 2, 3]\n"
          ]
        }
      ]
    },
    {
      "cell_type": "code",
      "source": [
        "for i,j in zip(dict1.keys(),dict1.values()):\n",
        "  print(i,j)"
      ],
      "metadata": {
        "colab": {
          "base_uri": "https://localhost:8080/"
        },
        "id": "LPBiDstChZdV",
        "outputId": "60c1e918-22a1-4954-d5d3-22a45c7ca5f1"
      },
      "execution_count": 19,
      "outputs": [
        {
          "output_type": "stream",
          "name": "stdout",
          "text": [
            "A 3\n",
            "C pankaj\n",
            "B [1, 2, 3]\n"
          ]
        }
      ]
    },
    {
      "cell_type": "markdown",
      "source": [
        "#Make a dicitionary which has a number 1 to 5 as keys and its squares  as values."
      ],
      "metadata": {
        "id": "Nzs6na71iYu7"
      }
    },
    {
      "cell_type": "code",
      "source": [
        "n=[1,2,3,4,5]\n",
        "squares= list(map(lambda n: n*n,n))"
      ],
      "metadata": {
        "id": "v61Jj_QHiA_N"
      },
      "execution_count": 23,
      "outputs": []
    },
    {
      "cell_type": "code",
      "source": [
        "squares\n"
      ],
      "metadata": {
        "colab": {
          "base_uri": "https://localhost:8080/"
        },
        "id": "lpNMYZ-ojKGz",
        "outputId": "455ace32-f3a6-4ee5-e435-a33afa936bef"
      },
      "execution_count": 24,
      "outputs": [
        {
          "output_type": "execute_result",
          "data": {
            "text/plain": [
              "[1, 4, 9, 16, 25]"
            ]
          },
          "metadata": {},
          "execution_count": 24
        }
      ]
    },
    {
      "cell_type": "code",
      "source": [
        "#convert list into dict\n",
        "dict2={n[i]:squares[i] for i in range(0,len(n))}\n",
        "dict2"
      ],
      "metadata": {
        "colab": {
          "base_uri": "https://localhost:8080/"
        },
        "id": "2uzkf-2OjPMY",
        "outputId": "6b97a451-a904-42a0-fc16-1ca9d9184c6d"
      },
      "execution_count": 26,
      "outputs": [
        {
          "output_type": "execute_result",
          "data": {
            "text/plain": [
              "{1: 1, 2: 4, 3: 9, 4: 16, 5: 25}"
            ]
          },
          "metadata": {},
          "execution_count": 26
        }
      ]
    },
    {
      "cell_type": "markdown",
      "source": [
        "#Dictionary Comprehension"
      ],
      "metadata": {
        "id": "8Jm4JyKtlJOJ"
      }
    },
    {
      "cell_type": "code",
      "source": [
        "dict2={n:n*n for n in range(1,6)}\n",
        "dict2\n"
      ],
      "metadata": {
        "colab": {
          "base_uri": "https://localhost:8080/"
        },
        "id": "fHsDM6oWlNXS",
        "outputId": "3e8ad911-0abb-4554-f856-6571cd09d95b"
      },
      "execution_count": 30,
      "outputs": [
        {
          "output_type": "execute_result",
          "data": {
            "text/plain": [
              "{1: 1, 2: 4, 3: 9, 4: 16, 5: 25}"
            ]
          },
          "metadata": {},
          "execution_count": 30
        }
      ]
    },
    {
      "cell_type": "markdown",
      "source": [
        "#Given a dictionary , find the sum of all items in the dictionary"
      ],
      "metadata": {
        "id": "RFV1UKNlkKUX"
      }
    },
    {
      "cell_type": "code",
      "source": [
        "#let take above dictionary\n",
        "sum=0\n",
        "for i,j in dict2.items():\n",
        "  sum=sum+j\n",
        "sum"
      ],
      "metadata": {
        "colab": {
          "base_uri": "https://localhost:8080/"
        },
        "id": "Xvlmu30SkB1v",
        "outputId": "0ce233fe-fa6b-4652-a267-65e51619deb5"
      },
      "execution_count": 29,
      "outputs": [
        {
          "output_type": "execute_result",
          "data": {
            "text/plain": [
              "55"
            ]
          },
          "metadata": {},
          "execution_count": 29
        }
      ]
    },
    {
      "cell_type": "code",
      "source": [
        "sum2=sum(dict2.values())"
      ],
      "metadata": {
        "colab": {
          "base_uri": "https://localhost:8080/",
          "height": 166
        },
        "id": "ZjwhDN1SkdaW",
        "outputId": "19e0cb1f-e1c2-402e-bc08-56baced7433d"
      },
      "execution_count": 32,
      "outputs": [
        {
          "output_type": "error",
          "ename": "TypeError",
          "evalue": "ignored",
          "traceback": [
            "\u001b[0;31m---------------------------------------------------------------------------\u001b[0m",
            "\u001b[0;31mTypeError\u001b[0m                                 Traceback (most recent call last)",
            "\u001b[0;32m<ipython-input-32-cfb9289a6b77>\u001b[0m in \u001b[0;36m<module>\u001b[0;34m()\u001b[0m\n\u001b[0;32m----> 1\u001b[0;31m \u001b[0msum2\u001b[0m\u001b[0;34m=\u001b[0m\u001b[0msum\u001b[0m\u001b[0;34m(\u001b[0m\u001b[0mdict2\u001b[0m\u001b[0;34m.\u001b[0m\u001b[0mvalues\u001b[0m\u001b[0;34m(\u001b[0m\u001b[0;34m)\u001b[0m\u001b[0;34m)\u001b[0m\u001b[0;34m\u001b[0m\u001b[0;34m\u001b[0m\u001b[0m\n\u001b[0m",
            "\u001b[0;31mTypeError\u001b[0m: 'int' object is not callable"
          ]
        }
      ]
    },
    {
      "cell_type": "markdown",
      "source": [
        "Somewhere else in your code you have something that looks like this:\n",
        "\n",
        "round = 42\n",
        "Then when you write\n",
        "\n",
        "round((a/b)*0.9*c)\n",
        "that is interpreted as meaning a function call on the object bound to round, which is an int. And that fails.\n",
        "\n",
        "The problem is whatever code binds an int to the name round. Find that and remove it.\n",
        "\n"
      ],
      "metadata": {
        "id": "MXG38KsHl5Io"
      }
    },
    {
      "cell_type": "code",
      "source": [
        "#sum is builtin function"
      ],
      "metadata": {
        "id": "rWfTe9BwlfcB"
      },
      "execution_count": 33,
      "outputs": []
    },
    {
      "cell_type": "markdown",
      "source": [
        "#Dictionary returns a shallow copy that is it  Shallow copy means a new dictionary object will be created and reference to the objects in existing dictionary will be inserted in this."
      ],
      "metadata": {
        "id": "bNrPbt3_mvOb"
      }
    },
    {
      "cell_type": "code",
      "source": [
        "dict3=dict2"
      ],
      "metadata": {
        "id": "jqM7b0jzmEsh"
      },
      "execution_count": 34,
      "outputs": []
    },
    {
      "cell_type": "code",
      "source": [
        "dict3"
      ],
      "metadata": {
        "colab": {
          "base_uri": "https://localhost:8080/"
        },
        "id": "syq2RDJanSaz",
        "outputId": "bc83039c-d78e-4554-b7a1-92559be58c67"
      },
      "execution_count": 35,
      "outputs": [
        {
          "output_type": "execute_result",
          "data": {
            "text/plain": [
              "{1: 1, 2: 4, 3: 9, 4: 16, 5: 25}"
            ]
          },
          "metadata": {},
          "execution_count": 35
        }
      ]
    },
    {
      "cell_type": "code",
      "source": [
        "dict3[1]=3"
      ],
      "metadata": {
        "id": "D2n4ffGmnTe3"
      },
      "execution_count": 36,
      "outputs": []
    },
    {
      "cell_type": "code",
      "source": [
        "dict2[1]"
      ],
      "metadata": {
        "colab": {
          "base_uri": "https://localhost:8080/"
        },
        "id": "6Pf4fzWjnVLN",
        "outputId": "32ca9fd0-9b0f-4462-c414-4c658de77067"
      },
      "execution_count": 37,
      "outputs": [
        {
          "output_type": "execute_result",
          "data": {
            "text/plain": [
              "3"
            ]
          },
          "metadata": {},
          "execution_count": 37
        }
      ]
    },
    {
      "cell_type": "markdown",
      "source": [
        "#Exception Handling\n",
        "1. First try will run\n",
        "2. if try become false then except will run\n",
        "3. if except become false or try becomes true else will run\n",
        "4. finally always runs"
      ],
      "metadata": {
        "id": "mYGbXKhnomZY"
      }
    },
    {
      "cell_type": "code",
      "source": [
        "try:\n",
        "  a=5\n",
        "  b=6\n",
        "  print(\"try\")\n",
        "except:\n",
        "  print(\"except\")"
      ],
      "metadata": {
        "colab": {
          "base_uri": "https://localhost:8080/"
        },
        "id": "X-vPJ5XDpWvn",
        "outputId": "dc57960b-6a0f-4524-bda3-09aa93b78e44"
      },
      "execution_count": 43,
      "outputs": [
        {
          "output_type": "stream",
          "name": "stdout",
          "text": [
            "try\n"
          ]
        }
      ]
    },
    {
      "cell_type": "code",
      "source": [
        "try:\n",
        "  a=5\n",
        "  b=6\n",
        "  a/0\n",
        "  print(\"try\")\n",
        "except:\n",
        "  print(\"except\")\n",
        "else:\n",
        "  print(\"else\")"
      ],
      "metadata": {
        "colab": {
          "base_uri": "https://localhost:8080/"
        },
        "id": "PCF43EX2nWgP",
        "outputId": "aed810b0-0d42-4252-f07a-ab7b1972df20"
      },
      "execution_count": 40,
      "outputs": [
        {
          "output_type": "stream",
          "name": "stdout",
          "text": [
            "except\n"
          ]
        }
      ]
    },
    {
      "cell_type": "code",
      "source": [
        "try:\n",
        "  a=5\n",
        "  b=6\n",
        "  print(\"try\")\n",
        "except:\n",
        "  print(\"except\")\n",
        "else:\n",
        "  print(\"else\")"
      ],
      "metadata": {
        "colab": {
          "base_uri": "https://localhost:8080/"
        },
        "id": "hMgbP-X6pEBK",
        "outputId": "e3daff0d-e0f7-4b0e-e5fc-c0b5a58b4109"
      },
      "execution_count": 41,
      "outputs": [
        {
          "output_type": "stream",
          "name": "stdout",
          "text": [
            "try\n",
            "else\n"
          ]
        }
      ]
    },
    {
      "cell_type": "code",
      "source": [
        ""
      ],
      "metadata": {
        "id": "LxKbB4nWpSVt"
      },
      "execution_count": null,
      "outputs": []
    }
  ]
}