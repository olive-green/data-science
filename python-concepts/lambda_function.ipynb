{
  "nbformat": 4,
  "nbformat_minor": 0,
  "metadata": {
    "colab": {
      "name": "lambda-function.ipynb",
      "provenance": [],
      "authorship_tag": "ABX9TyOIgFPb/nBdgcA3HUuQL1Go",
      "include_colab_link": true
    },
    "kernelspec": {
      "name": "python3",
      "display_name": "Python 3"
    },
    "language_info": {
      "name": "python"
    }
  },
  "cells": [
    {
      "cell_type": "markdown",
      "metadata": {
        "id": "view-in-github",
        "colab_type": "text"
      },
      "source": [
        "<a href=\"https://colab.research.google.com/github/olive-green/data-science/blob/main/python-concepts/lambda_function.ipynb\" target=\"_parent\"><img src=\"https://colab.research.google.com/assets/colab-badge.svg\" alt=\"Open In Colab\"/></a>"
      ]
    },
    {
      "cell_type": "markdown",
      "source": [
        "#Anonymous Function(Lambda function)\n",
        "We uses lambda function to reduce syntax\n",
        "###syntax:\n",
        "lambda arguments : return statement\n"
      ],
      "metadata": {
        "id": "CROeO97vuqYv"
      }
    },
    {
      "cell_type": "code",
      "execution_count": null,
      "metadata": {
        "colab": {
          "base_uri": "https://localhost:8080/"
        },
        "id": "u6OE_KWjuYHp",
        "outputId": "35237eb3-7f65-43a9-8276-db3beab78feb"
      },
      "outputs": [
        {
          "output_type": "stream",
          "name": "stdout",
          "text": [
            "25\n",
            "25\n"
          ]
        }
      ],
      "source": [
        "def square(n):\n",
        "  return n*n\n",
        "\n",
        "f= lambda n : n*n\n",
        "print(square(5))\n",
        "print(f(5))"
      ]
    },
    {
      "cell_type": "code",
      "source": [
        "# Both the functions are same"
      ],
      "metadata": {
        "id": "gLbCTkdpvLRj"
      },
      "execution_count": null,
      "outputs": []
    },
    {
      "cell_type": "markdown",
      "source": [
        "#Map, Filter, Reduce"
      ],
      "metadata": {
        "id": "Vgla3mhswnQB"
      }
    },
    {
      "cell_type": "markdown",
      "source": [
        "#Filter\n",
        "Filter - it filter out the values from the sequence like list based on the some function\n",
        "#####It takes two parameter function and sequence returns the iterator that will contain all the desired elements"
      ],
      "metadata": {
        "id": "ll4wR_lhwrGV"
      }
    },
    {
      "cell_type": "code",
      "source": [
        "nums=[3,2,6,7,8,4,2,9,11,10]\n",
        "# now we want all even numbers\n",
        "evens=list(filter(lambda n: n%2==0, nums))\n",
        "print(evens)"
      ],
      "metadata": {
        "colab": {
          "base_uri": "https://localhost:8080/"
        },
        "id": "SQzve_DKvP0D",
        "outputId": "7c9e24ab-dab9-4f1d-aca3-fa88f4291c7d"
      },
      "execution_count": null,
      "outputs": [
        {
          "output_type": "stream",
          "name": "stdout",
          "text": [
            "[2, 6, 8, 4, 2, 10]\n"
          ]
        }
      ]
    },
    {
      "cell_type": "code",
      "source": [
        "# we uses lamda function inplace of regular function"
      ],
      "metadata": {
        "id": "VJZkt2odxhhI"
      },
      "execution_count": null,
      "outputs": []
    },
    {
      "cell_type": "markdown",
      "source": [
        "#Map \n",
        "It is used to perform some similar operations on each element\n"
      ],
      "metadata": {
        "id": "wtcnfouixoOR"
      }
    },
    {
      "cell_type": "code",
      "source": [
        "# let say we want to square the values of evens\n",
        "squares=list(map(lambda n: n*n, evens))\n",
        "print(squares)"
      ],
      "metadata": {
        "colab": {
          "base_uri": "https://localhost:8080/"
        },
        "id": "Wb6Cr8uexnwm",
        "outputId": "aa1e2249-2cb7-4652-bc5d-5fb0d43b8f0e"
      },
      "execution_count": null,
      "outputs": [
        {
          "output_type": "stream",
          "name": "stdout",
          "text": [
            "[4, 36, 64, 16, 4, 100]\n"
          ]
        }
      ]
    },
    {
      "cell_type": "code",
      "source": [
        ""
      ],
      "metadata": {
        "id": "RrZbl-xcx_Rx"
      },
      "execution_count": null,
      "outputs": []
    },
    {
      "cell_type": "markdown",
      "source": [
        "#Reduce\n",
        "It is used to return a single value based on the function\n",
        "####It takes two elements at a time \n",
        "####let say we want to add all numbers then we can use it"
      ],
      "metadata": {
        "id": "QrVKzrFbyAxF"
      }
    },
    {
      "cell_type": "code",
      "source": [
        "# it should import from functools library\n",
        "from functools import reduce\n",
        "sum= reduce(lambda a,b: a+b , squares)\n",
        "print(sum)"
      ],
      "metadata": {
        "colab": {
          "base_uri": "https://localhost:8080/"
        },
        "id": "VLBBAi9iySwk",
        "outputId": "aedda70b-f31b-4645-8cee-fdf905c99e58"
      },
      "execution_count": null,
      "outputs": [
        {
          "output_type": "stream",
          "name": "stdout",
          "text": [
            "224\n"
          ]
        }
      ]
    },
    {
      "cell_type": "code",
      "source": [
        ""
      ],
      "metadata": {
        "id": "7X8ze9THyYwj"
      },
      "execution_count": null,
      "outputs": []
    },
    {
      "cell_type": "code",
      "source": [
        ""
      ],
      "metadata": {
        "id": "SpvtA0Z80y3m"
      },
      "execution_count": null,
      "outputs": []
    },
    {
      "cell_type": "code",
      "source": [
        ""
      ],
      "metadata": {
        "id": "ImunUvI-0y0B"
      },
      "execution_count": null,
      "outputs": []
    },
    {
      "cell_type": "code",
      "source": [
        ""
      ],
      "metadata": {
        "id": "9qZ7E7tI0yxC"
      },
      "execution_count": null,
      "outputs": []
    },
    {
      "cell_type": "markdown",
      "source": [
        "#List Comprehension\n",
        "List comprehension offers a shorter syntax when you want to create a new list based on the values of an existing list.\n",
        "###Syntax:\n",
        "newlist = [expression for item in iterable if condition == True]\n",
        "\n",
        "###Condition\n",
        "The condition is like a filter that only accepts the items that valuate to True.\n"
      ],
      "metadata": {
        "id": "Kb7rb8s800RR"
      }
    },
    {
      "cell_type": "code",
      "source": [
        "fruits = [\"apple\", \"banana\", \"cherry\", \"kiwi\", \"mango\"]\n",
        "newlist=[x for x in fruits if x!=\"apple\"]\n",
        "list2=[x for x in fruits]\n",
        "print(newlist)\n",
        "print(list2)"
      ],
      "metadata": {
        "id": "eBgN4h3H0yqG",
        "colab": {
          "base_uri": "https://localhost:8080/"
        },
        "outputId": "0d194373-79e7-4b5c-b664-7dd1d79a6635"
      },
      "execution_count": 7,
      "outputs": [
        {
          "output_type": "stream",
          "name": "stdout",
          "text": [
            "['banana', 'cherry', 'kiwi', 'mango']\n",
            "['apple', 'banana', 'cherry', 'kiwi', 'mango']\n"
          ]
        }
      ]
    },
    {
      "cell_type": "markdown",
      "source": [
        "###Iterable\n",
        "Iterable\n",
        "The iterable can be any iterable object, like a list, tuple, set etc.\n"
      ],
      "metadata": {
        "id": "AZVwtq7PkE6o"
      }
    },
    {
      "cell_type": "code",
      "source": [
        "# You can use the range() function to create an iterable:\n",
        "list=[x for x in range(10)]\n",
        "print(list)"
      ],
      "metadata": {
        "colab": {
          "base_uri": "https://localhost:8080/"
        },
        "id": "KBPLkAnnjisL",
        "outputId": "11ca802e-cc41-4081-c0cd-94d23da3d9ca"
      },
      "execution_count": 8,
      "outputs": [
        {
          "output_type": "stream",
          "name": "stdout",
          "text": [
            "[0, 1, 2, 3, 4, 5, 6, 7, 8, 9]\n"
          ]
        }
      ]
    },
    {
      "cell_type": "markdown",
      "source": [
        "###Expression\n",
        "The expression is the current item in the iteration, but it is also the outcome, which you can manipulate before it ends up like a list item in the new list:"
      ],
      "metadata": {
        "id": "uvzTv3sBkcdM"
      }
    },
    {
      "cell_type": "code",
      "source": [
        "# You can set the outcome to whatever you like:\n",
        "l=[\"hello\" for x in range(10)]\n",
        "print(l)\n"
      ],
      "metadata": {
        "colab": {
          "base_uri": "https://localhost:8080/"
        },
        "id": "Z8JU5s6SkWMT",
        "outputId": "616225a0-274a-4708-f1a4-f53c04bce70f"
      },
      "execution_count": 10,
      "outputs": [
        {
          "output_type": "stream",
          "name": "stdout",
          "text": [
            "['hello', 'hello', 'hello', 'hello', 'hello', 'hello', 'hello', 'hello', 'hello', 'hello']\n"
          ]
        }
      ]
    },
    {
      "cell_type": "markdown",
      "source": [
        "###The expression can also contain conditions, not like a filter, but as a way to manipulate the outcome:"
      ],
      "metadata": {
        "id": "zQ7mWwXWlCOV"
      }
    },
    {
      "cell_type": "code",
      "source": [
        "# \"Return the item if it is not banana, if it is banana return orange\".\n",
        "list=[x if x!=\"banana\" else \"orange\" for x in fruits]\n",
        "print(list)"
      ],
      "metadata": {
        "colab": {
          "base_uri": "https://localhost:8080/"
        },
        "id": "Db1LgdbAkwCs",
        "outputId": "7710070d-e145-41d7-b367-21ecbb090604"
      },
      "execution_count": 15,
      "outputs": [
        {
          "output_type": "stream",
          "name": "stdout",
          "text": [
            "['apple', 'orange', 'cherry', 'kiwi', 'mango']\n"
          ]
        }
      ]
    },
    {
      "cell_type": "code",
      "source": [
        "list=[x if x==\"banana\" else \"orange\" for x in fruits]  #here if x is banana then return it else make all others orange\n",
        "print(list)"
      ],
      "metadata": {
        "colab": {
          "base_uri": "https://localhost:8080/"
        },
        "id": "KxWpWzz8ldoF",
        "outputId": "43267806-9b01-4d77-9c9f-2881bae18e16"
      },
      "execution_count": 17,
      "outputs": [
        {
          "output_type": "stream",
          "name": "stdout",
          "text": [
            "['orange', 'banana', 'orange', 'orange', 'orange']\n"
          ]
        }
      ]
    },
    {
      "cell_type": "code",
      "source": [
        ""
      ],
      "metadata": {
        "id": "VvqI5Sh8l3MV"
      },
      "execution_count": null,
      "outputs": []
    }
  ]
}