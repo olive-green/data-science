{
 "cells": [
  {
   "cell_type": "code",
   "execution_count": 1,
   "id": "87a85680",
   "metadata": {},
   "outputs": [],
   "source": [
    "import cv2\n",
    "import mediapipe as mp\n",
    "import pydirectinput"
   ]
  },
  {
   "cell_type": "code",
   "execution_count": 7,
   "id": "1665f626",
   "metadata": {},
   "outputs": [],
   "source": [
    "cap= cv2.VideoCapture(0)\n",
    "mp_holistic=mp.solutions.holistic\n",
    "mp_pose=mp.solutions.pose\n",
    "with mp_holistic.Holistic(min_detection_confidence=0.5,min_tracking_confidence=0.5) as holistic:\n",
    "    while True:\n",
    "        _,frame=cap.read()\n",
    "        cvtImg=cv2.cvtColor(frame,cv2.COLOR_BGR2RGB)\n",
    "        res=holistic.process(cvtImg)\n",
    "        height,width,_=frame.shape\n",
    "        pose='Nothing'\n",
    "        if res.left_hand_landmarks:\n",
    "            left_hand = (res.pose_landmarks.landmark[mp_pose.PoseLandmark.RIGHT_WRIST].x*width,\n",
    "                        res.pose_landmarks.landmark[mp_pose.PoseLandmark.RIGHT_WRIST].y*height)\n",
    "            middle_point = height//2\n",
    "            if(left_hand[1]<middle_point):  # if y' is less than y/2 then it means it is above the middle line ie. upper side\n",
    "                pose='upward'\n",
    "#                 pydirectinput.keyUp(\"down\")  #this is for unpress the already pressed down key \n",
    "#                 pydirectinput.keyDown(\"up\")\n",
    "            elif(left_hand[1]> middle_point):\n",
    "                pose=\"downward\"\n",
    "#                 pydirectinput.keyUp(\"up\")\n",
    "#                 pydirectinput.keyDown(\"down\")\n",
    "            else:\n",
    "                pose =\"Nothing\"\n",
    "#                 pydirectinput.keyUp('up') \n",
    "#                 pydirectinput.keyUp('down')\n",
    "        cv2.putText(frame,pose,(20,20),cv2.FONT_HERSHEY_PLAIN,2,(255,0,0),2)\n",
    "        cv2.line(frame,(0,height//2),(width,height//2),(0,255,0),2)\n",
    "        cv2.imshow(\"win1\",frame)\n",
    "        if cv2.waitKey(1)==ord('q'):\n",
    "            break\n",
    "            \n",
    "    \n",
    "cv2.destroyAllWindows()\n",
    "cap.release()"
   ]
  },
  {
   "cell_type": "code",
   "execution_count": null,
   "id": "15e720ec",
   "metadata": {},
   "outputs": [],
   "source": []
  }
 ],
 "metadata": {
  "kernelspec": {
   "display_name": "Python 3 (ipykernel)",
   "language": "python",
   "name": "python3"
  },
  "language_info": {
   "codemirror_mode": {
    "name": "ipython",
    "version": 3
   },
   "file_extension": ".py",
   "mimetype": "text/x-python",
   "name": "python",
   "nbconvert_exporter": "python",
   "pygments_lexer": "ipython3",
   "version": "3.10.0"
  }
 },
 "nbformat": 4,
 "nbformat_minor": 5
}
