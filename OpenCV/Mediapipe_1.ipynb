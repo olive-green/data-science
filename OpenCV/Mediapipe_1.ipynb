{
  "cells": [
    {
      "cell_type": "markdown",
      "metadata": {
        "id": "view-in-github",
        "colab_type": "text"
      },
      "source": [
        "<a href=\"https://colab.research.google.com/github/olive-green/data-science/blob/main/OpenCV/Mediapipe_1.ipynb\" target=\"_parent\"><img src=\"https://colab.research.google.com/assets/colab-badge.svg\" alt=\"Open In Colab\"/></a>"
      ]
    },
    {
      "cell_type": "code",
      "execution_count": null,
      "id": "58122b87",
      "metadata": {
        "id": "58122b87",
        "outputId": "7b0fcebb-930a-48ae-f60e-e53a9e5eb07e"
      },
      "outputs": [
        {
          "name": "stdout",
          "output_type": "stream",
          "text": [
            "Requirement already satisfied: mediapipe in c:\\users\\91830\\appdata\\roaming\\python\\python37\\site-packages (0.8.9.1)\n",
            "Requirement already satisfied: numpy in c:\\users\\91830\\appdata\\local\\programs\\python\\python37\\lib\\site-packages (from mediapipe) (1.21.5)\n",
            "Requirement already satisfied: protobuf>=3.11.4 in c:\\users\\91830\\appdata\\local\\programs\\python\\python37\\lib\\site-packages (from mediapipe) (3.20.0)\n",
            "Requirement already satisfied: opencv-contrib-python in c:\\users\\91830\\appdata\\roaming\\python\\python37\\site-packages (from mediapipe) (4.5.5.64)\n",
            "Requirement already satisfied: absl-py in c:\\users\\91830\\appdata\\roaming\\python\\python37\\site-packages (from mediapipe) (1.0.0)\n",
            "Requirement already satisfied: attrs>=19.1.0 in c:\\users\\91830\\appdata\\local\\programs\\python\\python37\\lib\\site-packages (from mediapipe) (21.4.0)\n",
            "Requirement already satisfied: matplotlib in c:\\users\\91830\\appdata\\roaming\\python\\python37\\site-packages (from mediapipe) (3.5.1)\n",
            "Requirement already satisfied: six in c:\\users\\91830\\appdata\\local\\programs\\python\\python37\\lib\\site-packages (from absl-py->mediapipe) (1.16.0)\n",
            "Requirement already satisfied: fonttools>=4.22.0 in c:\\users\\91830\\appdata\\roaming\\python\\python37\\site-packages (from matplotlib->mediapipe) (4.32.0)\n",
            "Requirement already satisfied: python-dateutil>=2.7 in c:\\users\\91830\\appdata\\local\\programs\\python\\python37\\lib\\site-packages (from matplotlib->mediapipe) (2.8.2)\n",
            "Requirement already satisfied: pyparsing>=2.2.1 in c:\\users\\91830\\appdata\\local\\programs\\python\\python37\\lib\\site-packages (from matplotlib->mediapipe) (3.0.8)\n",
            "Requirement already satisfied: kiwisolver>=1.0.1 in c:\\users\\91830\\appdata\\roaming\\python\\python37\\site-packages (from matplotlib->mediapipe) (1.4.2)\n",
            "Requirement already satisfied: pillow>=6.2.0 in c:\\users\\91830\\appdata\\local\\programs\\python\\python37\\lib\\site-packages (from matplotlib->mediapipe) (9.1.0)\n",
            "Requirement already satisfied: packaging>=20.0 in c:\\users\\91830\\appdata\\local\\programs\\python\\python37\\lib\\site-packages (from matplotlib->mediapipe) (21.3)\n",
            "Requirement already satisfied: cycler>=0.10 in c:\\users\\91830\\appdata\\roaming\\python\\python37\\site-packages (from matplotlib->mediapipe) (0.11.0)\n",
            "Requirement already satisfied: typing-extensions in c:\\users\\91830\\appdata\\local\\programs\\python\\python37\\lib\\site-packages (from kiwisolver>=1.0.1->matplotlib->mediapipe) (4.1.1)\n"
          ]
        }
      ],
      "source": [
        "!pip install mediapipe  --user "
      ]
    },
    {
      "cell_type": "code",
      "execution_count": null,
      "id": "c02177ed",
      "metadata": {
        "id": "c02177ed"
      },
      "outputs": [],
      "source": [
        "import mediapipe as mp\n",
        "import cv2 "
      ]
    },
    {
      "cell_type": "code",
      "execution_count": null,
      "id": "e8f3bd30",
      "metadata": {
        "id": "e8f3bd30"
      },
      "outputs": [],
      "source": [
        "drawing_details= mp.solutions.drawing_utils"
      ]
    },
    {
      "cell_type": "code",
      "execution_count": null,
      "id": "05a57ead",
      "metadata": {
        "id": "05a57ead"
      },
      "outputs": [],
      "source": [
        "with mp.solutions.face_detection.FaceDetection(model_selection=1,min_detection_confidence=0.5) as face_Detect :\n",
        "    \n",
        "    img = cv2.imread(\"first.jpg\")\n",
        "    res = face_Detect.process(img)\n",
        "    if res.detections :\n",
        "        for detect in res.detections :\n",
        "            drawing_details.draw_detection(img,detect)\n",
        "    cv2.imshow('webcam',img)\n",
        "    cv2.waitKey(0)\n",
        "    cv2.destroyAllWindows()\n"
      ]
    },
    {
      "cell_type": "code",
      "execution_count": null,
      "id": "6a59a610",
      "metadata": {
        "collapsed": true,
        "id": "6a59a610",
        "outputId": "87083cfb-1a76-49c4-fb9a-5481c022d113"
      },
      "outputs": [
        {
          "ename": "KeyboardInterrupt",
          "evalue": "",
          "output_type": "error",
          "traceback": [
            "\u001b[1;31m---------------------------------------------------------------------------\u001b[0m",
            "\u001b[1;31mKeyboardInterrupt\u001b[0m                         Traceback (most recent call last)",
            "\u001b[1;32m~\\AppData\\Local\\Temp\\ipykernel_11980\\1807828880.py\u001b[0m in \u001b[0;36m<module>\u001b[1;34m\u001b[0m\n\u001b[0;32m      2\u001b[0m \u001b[1;32mwith\u001b[0m \u001b[0mmp\u001b[0m\u001b[1;33m.\u001b[0m\u001b[0msolutions\u001b[0m\u001b[1;33m.\u001b[0m\u001b[0mface_detection\u001b[0m\u001b[1;33m.\u001b[0m\u001b[0mFaceDetection\u001b[0m\u001b[1;33m(\u001b[0m\u001b[0mmodel_selection\u001b[0m\u001b[1;33m=\u001b[0m\u001b[1;36m1\u001b[0m\u001b[1;33m,\u001b[0m\u001b[0mmin_detection_confidence\u001b[0m\u001b[1;33m=\u001b[0m\u001b[1;36m0.5\u001b[0m\u001b[1;33m)\u001b[0m \u001b[1;32mas\u001b[0m \u001b[0mface_Detect\u001b[0m \u001b[1;33m:\u001b[0m\u001b[1;33m\u001b[0m\u001b[1;33m\u001b[0m\u001b[0m\n\u001b[0;32m      3\u001b[0m     \u001b[1;32mwhile\u001b[0m \u001b[1;32mTrue\u001b[0m\u001b[1;33m:\u001b[0m\u001b[1;33m\u001b[0m\u001b[1;33m\u001b[0m\u001b[0m\n\u001b[1;32m----> 4\u001b[1;33m         \u001b[0m_\u001b[0m\u001b[1;33m,\u001b[0m\u001b[0mframe\u001b[0m \u001b[1;33m=\u001b[0m \u001b[0mcap\u001b[0m\u001b[1;33m.\u001b[0m\u001b[0mread\u001b[0m\u001b[1;33m(\u001b[0m\u001b[1;33m)\u001b[0m\u001b[1;33m\u001b[0m\u001b[1;33m\u001b[0m\u001b[0m\n\u001b[0m\u001b[0;32m      5\u001b[0m         \u001b[0mcvtImg\u001b[0m \u001b[1;33m=\u001b[0m \u001b[0mcv2\u001b[0m\u001b[1;33m.\u001b[0m\u001b[0mcvtColor\u001b[0m\u001b[1;33m(\u001b[0m\u001b[0mframe\u001b[0m\u001b[1;33m,\u001b[0m\u001b[0mcv2\u001b[0m\u001b[1;33m.\u001b[0m\u001b[0mCOLOR_BGR2RGB\u001b[0m\u001b[1;33m)\u001b[0m\u001b[1;33m\u001b[0m\u001b[1;33m\u001b[0m\u001b[0m\n\u001b[0;32m      6\u001b[0m         \u001b[0mres\u001b[0m \u001b[1;33m=\u001b[0m \u001b[0mface_Detect\u001b[0m\u001b[1;33m.\u001b[0m\u001b[0mprocess\u001b[0m\u001b[1;33m(\u001b[0m\u001b[0mcvtImg\u001b[0m\u001b[1;33m)\u001b[0m\u001b[1;33m\u001b[0m\u001b[1;33m\u001b[0m\u001b[0m\n",
            "\u001b[1;31mKeyboardInterrupt\u001b[0m: "
          ]
        }
      ],
      "source": [
        "cap  = cv2.VideoCapture(0)\n",
        "with mp.solutions.face_detection.FaceDetection(model_selection=1,min_detection_confidence=0.5) as face_Detect :\n",
        "    while True:q\n",
        "        _,frame = cap.read()\n",
        "        cvtImg = cv2.cvtColor(frame,cv2.COLOR_BGR2RGB)\n",
        "        res = face_Detect.process(cvtImg)\n",
        "        \n",
        "        if res.detections :with mp.solutions.face_detection.FaceDetection(model_selection=1,min_detection_confidence=0.5) as face_Detect :\n",
        "    \n",
        "    img = cv2.imread(\"first.jpg\")\n",
        "    res = face_Detect.process(img)\n",
        "    if res.detections :\n",
        "        for detect in res.detections :\n",
        "            drawing_details.draw_detection(img,detect)\n",
        "    cv2.imshow('webcam',img)\n",
        "    cv2.waitKey(0)\n",
        "    cv2.destroyAllWindows()\n",
        "            for detect in res.detections :\n",
        "                drawing_details.draw_detection(frame,detect)\n",
        "        cv2.imshow('webcam',frame)\n",
        "        if cv2.waitKey(1)==ord('q'):\n",
        "            break\n",
        "cv2.destroyAllWindows()\n",
        "cap.release()"
      ]
    },
    {
      "cell_type": "code",
      "execution_count": null,
      "id": "5dbf43ce",
      "metadata": {
        "id": "5dbf43ce"
      },
      "outputs": [],
      "source": [
        "mp_face_mesh = mp.solutions.face_mesh\n",
        "with mp_face_mesh.FaceMesh(min_detection_confidence=0.5,min_tracking_confidence=0.5) as face_mesh :\n",
        "    \n",
        "    img = cv2.imread(\"second.jpg\")\n",
        "    res = face_mesh.process(img)\n",
        "    if res.multi_face_landmarks :\n",
        "        for detect in res.multi_face_landmarks :\n",
        "            drawing_details.draw_landmarks(img,landmark_list=detect)\n",
        "    cv2.imshow('webcam',img)\n",
        "    cv2.waitKey(0)\n",
        "    cv2.destroyAllWindows()\n"
      ]
    },
    {
      "cell_type": "code",
      "execution_count": null,
      "id": "2e04cb04",
      "metadata": {
        "id": "2e04cb04"
      },
      "outputs": [],
      "source": [
        "cap = cv2.VideoCapture(0)\n",
        "mp_face_mesh = mp.solutions.face_mesh\n",
        "with mp_face_mesh.FaceMesh(min_detection_confidence=0.5,min_tracking_confidence=0.5) as face_mesh :\n",
        "     while True:\n",
        "        _,frame = cap.read()\n",
        "        cvtImg = cv2.cvtColor(frame,cv2.COLOR_BGR2RGB)\n",
        "        res = face_mesh.process(cvtImg)\n",
        "        if res.multi_face_landmarks :\n",
        "            for detect in res.multi_face_landmarks :\n",
        "                drawing_details.draw_landmarks(frame,landmark_list=detect)\n",
        "        cv2.imshow('webcam',frame)\n",
        "        if cv2.waitKey(1)==ord('q'):\n",
        "            break\n",
        "cv2.destroyAllWindows()\n",
        "cap.release()"
      ]
    },
    {
      "cell_type": "markdown",
      "id": "ff27b4ac",
      "metadata": {
        "id": "ff27b4ac"
      },
      "source": [
        ""
      ]
    }
  ],
  "metadata": {
    "kernelspec": {
      "display_name": "Python 3 (ipykernel)",
      "language": "python",
      "name": "python3"
    },
    "language_info": {
      "codemirror_mode": {
        "name": "ipython",
        "version": 3
      },
      "file_extension": ".py",
      "mimetype": "text/x-python",
      "name": "python",
      "nbconvert_exporter": "python",
      "pygments_lexer": "ipython3",
      "version": "3.7.6"
    },
    "colab": {
      "name": "Mediapipe 1.ipynb",
      "provenance": [],
      "include_colab_link": true
    }
  },
  "nbformat": 4,
  "nbformat_minor": 5
}